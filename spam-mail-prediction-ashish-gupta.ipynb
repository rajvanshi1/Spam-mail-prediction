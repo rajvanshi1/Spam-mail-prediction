{
 "cells": [
  {
   "cell_type": "code",
   "execution_count": 1,
   "id": "6c8c0e60",
   "metadata": {
    "_cell_guid": "9fcc3b74-c388-46b7-b6b5-6b74747ea98b",
    "_uuid": "71db13a5-4bb4-4003-9453-c018f0e166a1",
    "collapsed": false,
    "execution": {
     "iopub.execute_input": "2024-01-22T18:20:59.116763Z",
     "iopub.status.busy": "2024-01-22T18:20:59.115361Z",
     "iopub.status.idle": "2024-01-22T18:21:00.267431Z",
     "shell.execute_reply": "2024-01-22T18:21:00.266621Z",
     "shell.execute_reply.started": "2023-07-31T10:05:33.156611Z"
    },
    "jupyter": {
     "outputs_hidden": false
    },
    "papermill": {
     "duration": 1.188954,
     "end_time": "2024-01-22T18:21:00.267625",
     "exception": false,
     "start_time": "2024-01-22T18:20:59.078671",
     "status": "completed"
    },
    "tags": []
   },
   "outputs": [],
   "source": [
    "import pandas as pd\n",
    "from sklearn.model_selection import train_test_split\n",
    "from sklearn.feature_extraction.text import TfidfVectorizer\n",
    "from sklearn.linear_model import LogisticRegression\n",
    "from sklearn.metrics import accuracy_score"
   ]
  },
  {
   "cell_type": "code",
   "execution_count": 2,
   "id": "b09c40a4",
   "metadata": {
    "_cell_guid": "0cb28631-1d2a-45e0-a730-1fbd1921d3e3",
    "_uuid": "42ab35e3-ee77-4394-9b26-1408411e9dc9",
    "collapsed": false,
    "execution": {
     "iopub.execute_input": "2024-01-22T18:21:00.335494Z",
     "iopub.status.busy": "2024-01-22T18:21:00.334752Z",
     "iopub.status.idle": "2024-01-22T18:21:00.390879Z",
     "shell.execute_reply": "2024-01-22T18:21:00.391407Z",
     "shell.execute_reply.started": "2023-07-31T10:07:33.479937Z"
    },
    "jupyter": {
     "outputs_hidden": false
    },
    "papermill": {
     "duration": 0.095058,
     "end_time": "2024-01-22T18:21:00.391606",
     "exception": false,
     "start_time": "2024-01-22T18:21:00.296548",
     "status": "completed"
    },
    "tags": []
   },
   "outputs": [
    {
     "name": "stdout",
     "output_type": "stream",
     "text": [
      "(5572, 2)\n",
      "     Category                                            Message\n",
      "0         ham  Go until jurong point, crazy.. Available only ...\n",
      "1         ham                      Ok lar... Joking wif u oni...\n",
      "2        spam  Free entry in 2 a wkly comp to win FA Cup fina...\n",
      "3         ham  U dun say so early hor... U c already then say...\n",
      "4         ham  Nah I don't think he goes to usf, he lives aro...\n",
      "...       ...                                                ...\n",
      "5567     spam  This is the 2nd time we have tried 2 contact u...\n",
      "5568      ham               Will ü b going to esplanade fr home?\n",
      "5569      ham  Pity, * was in mood for that. So...any other s...\n",
      "5570      ham  The guy did some bitching but I acted like i'd...\n",
      "5571      ham                         Rofl. Its true to its name\n",
      "\n",
      "[5572 rows x 2 columns]\n"
     ]
    }
   ],
   "source": [
    "mail_data=pd.read_csv('../input/maildataset/mail_data.csv')\n",
    "print(mail_data.shape)\n",
    "print(mail_data)"
   ]
  },
  {
   "cell_type": "code",
   "execution_count": 3,
   "id": "b1538263",
   "metadata": {
    "_cell_guid": "05180855-f0c8-4283-854c-13e6074e77e3",
    "_uuid": "3c5c5129-b523-4ac2-8dae-f7b38f330697",
    "collapsed": false,
    "execution": {
     "iopub.execute_input": "2024-01-22T18:21:00.472971Z",
     "iopub.status.busy": "2024-01-22T18:21:00.472060Z",
     "iopub.status.idle": "2024-01-22T18:21:00.475841Z",
     "shell.execute_reply": "2024-01-22T18:21:00.476546Z",
     "shell.execute_reply.started": "2023-07-31T10:05:34.49184Z"
    },
    "jupyter": {
     "outputs_hidden": false
    },
    "papermill": {
     "duration": 0.056326,
     "end_time": "2024-01-22T18:21:00.476762",
     "exception": false,
     "start_time": "2024-01-22T18:21:00.420436",
     "status": "completed"
    },
    "tags": []
   },
   "outputs": [
    {
     "name": "stdout",
     "output_type": "stream",
     "text": [
      "<class 'pandas.core.frame.DataFrame'>\n",
      "RangeIndex: 5572 entries, 0 to 5571\n",
      "Data columns (total 2 columns):\n",
      " #   Column    Non-Null Count  Dtype \n",
      "---  ------    --------------  ----- \n",
      " 0   Category  5572 non-null   object\n",
      " 1   Message   5572 non-null   object\n",
      "dtypes: object(2)\n",
      "memory usage: 87.2+ KB\n"
     ]
    }
   ],
   "source": [
    "mail_data.info()"
   ]
  },
  {
   "cell_type": "code",
   "execution_count": 4,
   "id": "c867fc72",
   "metadata": {
    "_cell_guid": "7ffc1b5c-ff7c-4ce9-bbb0-0c73ebe9a64b",
    "_uuid": "6613cae2-4c8b-4594-8bcf-b89d45c96a21",
    "collapsed": false,
    "execution": {
     "iopub.execute_input": "2024-01-22T18:21:00.550966Z",
     "iopub.status.busy": "2024-01-22T18:21:00.550042Z",
     "iopub.status.idle": "2024-01-22T18:21:00.554038Z",
     "shell.execute_reply": "2024-01-22T18:21:00.554636Z",
     "shell.execute_reply.started": "2023-07-31T10:05:34.518251Z"
    },
    "jupyter": {
     "outputs_hidden": false
    },
    "papermill": {
     "duration": 0.04653,
     "end_time": "2024-01-22T18:21:00.554836",
     "exception": false,
     "start_time": "2024-01-22T18:21:00.508306",
     "status": "completed"
    },
    "tags": []
   },
   "outputs": [
    {
     "data": {
      "text/plain": [
       "Category    0\n",
       "Message     0\n",
       "dtype: int64"
      ]
     },
     "execution_count": 4,
     "metadata": {},
     "output_type": "execute_result"
    }
   ],
   "source": [
    "mail_data.isnull().sum()"
   ]
  },
  {
   "cell_type": "code",
   "execution_count": 5,
   "id": "6b213051",
   "metadata": {
    "_cell_guid": "1d145cc5-09fb-4423-8d12-bd1295aeaa4b",
    "_uuid": "689bdffa-5ce4-4b90-8161-d36ab10b507c",
    "collapsed": false,
    "execution": {
     "iopub.execute_input": "2024-01-22T18:21:00.619091Z",
     "iopub.status.busy": "2024-01-22T18:21:00.618481Z",
     "iopub.status.idle": "2024-01-22T18:21:00.629518Z",
     "shell.execute_reply": "2024-01-22T18:21:00.630141Z",
     "shell.execute_reply.started": "2023-07-31T10:05:34.535369Z"
    },
    "jupyter": {
     "outputs_hidden": false
    },
    "papermill": {
     "duration": 0.045162,
     "end_time": "2024-01-22T18:21:00.630331",
     "exception": false,
     "start_time": "2024-01-22T18:21:00.585169",
     "status": "completed"
    },
    "tags": []
   },
   "outputs": [
    {
     "data": {
      "text/html": [
       "<div>\n",
       "<style scoped>\n",
       "    .dataframe tbody tr th:only-of-type {\n",
       "        vertical-align: middle;\n",
       "    }\n",
       "\n",
       "    .dataframe tbody tr th {\n",
       "        vertical-align: top;\n",
       "    }\n",
       "\n",
       "    .dataframe thead th {\n",
       "        text-align: right;\n",
       "    }\n",
       "</style>\n",
       "<table border=\"1\" class=\"dataframe\">\n",
       "  <thead>\n",
       "    <tr style=\"text-align: right;\">\n",
       "      <th></th>\n",
       "      <th>Category</th>\n",
       "      <th>Message</th>\n",
       "    </tr>\n",
       "  </thead>\n",
       "  <tbody>\n",
       "    <tr>\n",
       "      <th>0</th>\n",
       "      <td>ham</td>\n",
       "      <td>Go until jurong point, crazy.. Available only ...</td>\n",
       "    </tr>\n",
       "    <tr>\n",
       "      <th>1</th>\n",
       "      <td>ham</td>\n",
       "      <td>Ok lar... Joking wif u oni...</td>\n",
       "    </tr>\n",
       "    <tr>\n",
       "      <th>2</th>\n",
       "      <td>spam</td>\n",
       "      <td>Free entry in 2 a wkly comp to win FA Cup fina...</td>\n",
       "    </tr>\n",
       "    <tr>\n",
       "      <th>3</th>\n",
       "      <td>ham</td>\n",
       "      <td>U dun say so early hor... U c already then say...</td>\n",
       "    </tr>\n",
       "    <tr>\n",
       "      <th>4</th>\n",
       "      <td>ham</td>\n",
       "      <td>Nah I don't think he goes to usf, he lives aro...</td>\n",
       "    </tr>\n",
       "  </tbody>\n",
       "</table>\n",
       "</div>"
      ],
      "text/plain": [
       "  Category                                            Message\n",
       "0      ham  Go until jurong point, crazy.. Available only ...\n",
       "1      ham                      Ok lar... Joking wif u oni...\n",
       "2     spam  Free entry in 2 a wkly comp to win FA Cup fina...\n",
       "3      ham  U dun say so early hor... U c already then say...\n",
       "4      ham  Nah I don't think he goes to usf, he lives aro..."
      ]
     },
     "execution_count": 5,
     "metadata": {},
     "output_type": "execute_result"
    }
   ],
   "source": [
    "mail_data.head()"
   ]
  },
  {
   "cell_type": "code",
   "execution_count": 6,
   "id": "4ab72378",
   "metadata": {
    "_cell_guid": "bab72482-38d2-4fdb-bffe-4a67f6c5e811",
    "_uuid": "4e02a8ce-52af-4379-afa7-5774e5c84d06",
    "collapsed": false,
    "execution": {
     "iopub.execute_input": "2024-01-22T18:21:00.696018Z",
     "iopub.status.busy": "2024-01-22T18:21:00.695114Z",
     "iopub.status.idle": "2024-01-22T18:21:00.701437Z",
     "shell.execute_reply": "2024-01-22T18:21:00.700925Z",
     "shell.execute_reply.started": "2023-07-31T10:05:34.555426Z"
    },
    "jupyter": {
     "outputs_hidden": false
    },
    "papermill": {
     "duration": 0.04061,
     "end_time": "2024-01-22T18:21:00.701589",
     "exception": false,
     "start_time": "2024-01-22T18:21:00.660979",
     "status": "completed"
    },
    "tags": []
   },
   "outputs": [
    {
     "data": {
      "text/plain": [
       "(5572, 2)"
      ]
     },
     "execution_count": 6,
     "metadata": {},
     "output_type": "execute_result"
    }
   ],
   "source": [
    "mail_data.shape"
   ]
  },
  {
   "cell_type": "code",
   "execution_count": 7,
   "id": "27047d7a",
   "metadata": {
    "_cell_guid": "a1c02cf7-c21b-41ff-a944-1fde26ddea6f",
    "_uuid": "8dda94a8-c870-400a-8908-15cf5e718dcb",
    "collapsed": false,
    "execution": {
     "iopub.execute_input": "2024-01-22T18:21:00.771714Z",
     "iopub.status.busy": "2024-01-22T18:21:00.770697Z",
     "iopub.status.idle": "2024-01-22T18:21:00.778959Z",
     "shell.execute_reply": "2024-01-22T18:21:00.779529Z",
     "shell.execute_reply.started": "2023-07-31T10:05:34.564919Z"
    },
    "jupyter": {
     "outputs_hidden": false
    },
    "papermill": {
     "duration": 0.044307,
     "end_time": "2024-01-22T18:21:00.779701",
     "exception": false,
     "start_time": "2024-01-22T18:21:00.735394",
     "status": "completed"
    },
    "tags": []
   },
   "outputs": [],
   "source": [
    "mail_data.loc[mail_data['Category']=='spam','Category']=0\n",
    "mail_data.loc[mail_data['Category']=='ham','Category']=1"
   ]
  },
  {
   "cell_type": "code",
   "execution_count": 8,
   "id": "e804f77e",
   "metadata": {
    "_cell_guid": "4685dfda-5cf2-48a0-ab26-406d60bee6f0",
    "_uuid": "0b2baf00-84ea-4813-8270-454fda2b7ca9",
    "collapsed": false,
    "execution": {
     "iopub.execute_input": "2024-01-22T18:21:00.847950Z",
     "iopub.status.busy": "2024-01-22T18:21:00.846965Z",
     "iopub.status.idle": "2024-01-22T18:21:00.857485Z",
     "shell.execute_reply": "2024-01-22T18:21:00.858034Z",
     "shell.execute_reply.started": "2023-07-31T10:05:34.577569Z"
    },
    "jupyter": {
     "outputs_hidden": false
    },
    "papermill": {
     "duration": 0.046938,
     "end_time": "2024-01-22T18:21:00.858233",
     "exception": false,
     "start_time": "2024-01-22T18:21:00.811295",
     "status": "completed"
    },
    "tags": []
   },
   "outputs": [
    {
     "data": {
      "text/html": [
       "<div>\n",
       "<style scoped>\n",
       "    .dataframe tbody tr th:only-of-type {\n",
       "        vertical-align: middle;\n",
       "    }\n",
       "\n",
       "    .dataframe tbody tr th {\n",
       "        vertical-align: top;\n",
       "    }\n",
       "\n",
       "    .dataframe thead th {\n",
       "        text-align: right;\n",
       "    }\n",
       "</style>\n",
       "<table border=\"1\" class=\"dataframe\">\n",
       "  <thead>\n",
       "    <tr style=\"text-align: right;\">\n",
       "      <th></th>\n",
       "      <th>Category</th>\n",
       "      <th>Message</th>\n",
       "    </tr>\n",
       "  </thead>\n",
       "  <tbody>\n",
       "    <tr>\n",
       "      <th>0</th>\n",
       "      <td>1</td>\n",
       "      <td>Go until jurong point, crazy.. Available only ...</td>\n",
       "    </tr>\n",
       "    <tr>\n",
       "      <th>1</th>\n",
       "      <td>1</td>\n",
       "      <td>Ok lar... Joking wif u oni...</td>\n",
       "    </tr>\n",
       "    <tr>\n",
       "      <th>2</th>\n",
       "      <td>0</td>\n",
       "      <td>Free entry in 2 a wkly comp to win FA Cup fina...</td>\n",
       "    </tr>\n",
       "    <tr>\n",
       "      <th>3</th>\n",
       "      <td>1</td>\n",
       "      <td>U dun say so early hor... U c already then say...</td>\n",
       "    </tr>\n",
       "    <tr>\n",
       "      <th>4</th>\n",
       "      <td>1</td>\n",
       "      <td>Nah I don't think he goes to usf, he lives aro...</td>\n",
       "    </tr>\n",
       "  </tbody>\n",
       "</table>\n",
       "</div>"
      ],
      "text/plain": [
       "  Category                                            Message\n",
       "0        1  Go until jurong point, crazy.. Available only ...\n",
       "1        1                      Ok lar... Joking wif u oni...\n",
       "2        0  Free entry in 2 a wkly comp to win FA Cup fina...\n",
       "3        1  U dun say so early hor... U c already then say...\n",
       "4        1  Nah I don't think he goes to usf, he lives aro..."
      ]
     },
     "execution_count": 8,
     "metadata": {},
     "output_type": "execute_result"
    }
   ],
   "source": [
    "mail_data.head()"
   ]
  },
  {
   "cell_type": "code",
   "execution_count": 9,
   "id": "22266f1a",
   "metadata": {
    "_cell_guid": "441b818e-7f77-4f39-94d6-50bbcb90d764",
    "_uuid": "f37e769c-79dc-47dc-b6e7-6a4d900225d1",
    "collapsed": false,
    "execution": {
     "iopub.execute_input": "2024-01-22T18:21:00.927271Z",
     "iopub.status.busy": "2024-01-22T18:21:00.925031Z",
     "iopub.status.idle": "2024-01-22T18:21:00.929296Z",
     "shell.execute_reply": "2024-01-22T18:21:00.929792Z",
     "shell.execute_reply.started": "2023-07-31T10:05:34.59248Z"
    },
    "jupyter": {
     "outputs_hidden": false
    },
    "papermill": {
     "duration": 0.039443,
     "end_time": "2024-01-22T18:21:00.929972",
     "exception": false,
     "start_time": "2024-01-22T18:21:00.890529",
     "status": "completed"
    },
    "tags": []
   },
   "outputs": [],
   "source": [
    "x=mail_data['Message']\n",
    "y=mail_data['Category']"
   ]
  },
  {
   "cell_type": "code",
   "execution_count": 10,
   "id": "b70ec55a",
   "metadata": {
    "_cell_guid": "cdadb21d-7cfc-4f72-bc31-97211c2ec74f",
    "_uuid": "78245425-380e-4059-8cbc-1e003435cc9f",
    "collapsed": false,
    "execution": {
     "iopub.execute_input": "2024-01-22T18:21:00.997089Z",
     "iopub.status.busy": "2024-01-22T18:21:00.996379Z",
     "iopub.status.idle": "2024-01-22T18:21:01.003691Z",
     "shell.execute_reply": "2024-01-22T18:21:01.004385Z",
     "shell.execute_reply.started": "2023-07-31T10:05:34.601889Z"
    },
    "jupyter": {
     "outputs_hidden": false
    },
    "papermill": {
     "duration": 0.043391,
     "end_time": "2024-01-22T18:21:01.004577",
     "exception": false,
     "start_time": "2024-01-22T18:21:00.961186",
     "status": "completed"
    },
    "tags": []
   },
   "outputs": [
    {
     "name": "stdout",
     "output_type": "stream",
     "text": [
      "0       Go until jurong point, crazy.. Available only ...\n",
      "1                           Ok lar... Joking wif u oni...\n",
      "2       Free entry in 2 a wkly comp to win FA Cup fina...\n",
      "3       U dun say so early hor... U c already then say...\n",
      "4       Nah I don't think he goes to usf, he lives aro...\n",
      "                              ...                        \n",
      "5567    This is the 2nd time we have tried 2 contact u...\n",
      "5568                 Will ü b going to esplanade fr home?\n",
      "5569    Pity, * was in mood for that. So...any other s...\n",
      "5570    The guy did some bitching but I acted like i'd...\n",
      "5571                           Rofl. Its true to its name\n",
      "Name: Message, Length: 5572, dtype: object\n",
      "0       1\n",
      "1       1\n",
      "2       0\n",
      "3       1\n",
      "4       1\n",
      "       ..\n",
      "5567    0\n",
      "5568    1\n",
      "5569    1\n",
      "5570    1\n",
      "5571    1\n",
      "Name: Category, Length: 5572, dtype: object\n"
     ]
    }
   ],
   "source": [
    "print(x)\n",
    "print(y)"
   ]
  },
  {
   "cell_type": "code",
   "execution_count": 11,
   "id": "d4ccdb81",
   "metadata": {
    "_cell_guid": "627f6863-8e6a-46cb-a19e-2ee471faef09",
    "_uuid": "1158785d-d555-463a-88fb-03b0154d0428",
    "collapsed": false,
    "execution": {
     "iopub.execute_input": "2024-01-22T18:21:01.072318Z",
     "iopub.status.busy": "2024-01-22T18:21:01.071696Z",
     "iopub.status.idle": "2024-01-22T18:21:01.077694Z",
     "shell.execute_reply": "2024-01-22T18:21:01.078265Z",
     "shell.execute_reply.started": "2023-07-31T10:05:34.616433Z"
    },
    "jupyter": {
     "outputs_hidden": false
    },
    "papermill": {
     "duration": 0.041453,
     "end_time": "2024-01-22T18:21:01.078457",
     "exception": false,
     "start_time": "2024-01-22T18:21:01.037004",
     "status": "completed"
    },
    "tags": []
   },
   "outputs": [],
   "source": [
    "x_train,x_test,y_train,y_test=train_test_split(x,y,test_size=0.2,random_state=3)"
   ]
  },
  {
   "cell_type": "code",
   "execution_count": 12,
   "id": "fd293368",
   "metadata": {
    "_cell_guid": "d99402ee-1bdf-4dd0-b988-f5edb41afe59",
    "_uuid": "072036cf-f9b2-4e37-9f11-3b1a797fb2f1",
    "collapsed": false,
    "execution": {
     "iopub.execute_input": "2024-01-22T18:21:01.150668Z",
     "iopub.status.busy": "2024-01-22T18:21:01.149913Z",
     "iopub.status.idle": "2024-01-22T18:21:01.155584Z",
     "shell.execute_reply": "2024-01-22T18:21:01.156268Z",
     "shell.execute_reply.started": "2023-07-31T10:05:34.627238Z"
    },
    "jupyter": {
     "outputs_hidden": false
    },
    "papermill": {
     "duration": 0.04347,
     "end_time": "2024-01-22T18:21:01.156481",
     "exception": false,
     "start_time": "2024-01-22T18:21:01.113011",
     "status": "completed"
    },
    "tags": []
   },
   "outputs": [
    {
     "name": "stdout",
     "output_type": "stream",
     "text": [
      "(5572,)\n",
      "(4457,)\n",
      "(1115,)\n"
     ]
    }
   ],
   "source": [
    "print(x.shape)\n",
    "print(x_train.shape)\n",
    "print(x_test.shape)"
   ]
  },
  {
   "cell_type": "markdown",
   "id": "33f1f289",
   "metadata": {
    "_cell_guid": "24e3da3d-fcbc-4abe-ab81-0a668d13f25d",
    "_uuid": "af8af519-d7cf-4091-b7af-00a1580be3aa",
    "papermill": {
     "duration": 0.033319,
     "end_time": "2024-01-22T18:21:01.223775",
     "exception": false,
     "start_time": "2024-01-22T18:21:01.190456",
     "status": "completed"
    },
    "tags": []
   },
   "source": [
    "Feature Extraction\n",
    "transform text data to feature vectors for logistic regression"
   ]
  },
  {
   "cell_type": "code",
   "execution_count": 13,
   "id": "ca7a3f61",
   "metadata": {
    "_cell_guid": "0d4cd8f9-7de8-417a-bca4-c73ad3de49e1",
    "_uuid": "5d067114-5cce-443b-90a3-da72701319e5",
    "collapsed": false,
    "execution": {
     "iopub.execute_input": "2024-01-22T18:21:01.295445Z",
     "iopub.status.busy": "2024-01-22T18:21:01.294703Z",
     "iopub.status.idle": "2024-01-22T18:21:01.449332Z",
     "shell.execute_reply": "2024-01-22T18:21:01.448679Z",
     "shell.execute_reply.started": "2023-07-31T10:05:34.641837Z"
    },
    "jupyter": {
     "outputs_hidden": false
    },
    "papermill": {
     "duration": 0.191913,
     "end_time": "2024-01-22T18:21:01.449506",
     "exception": false,
     "start_time": "2024-01-22T18:21:01.257593",
     "status": "completed"
    },
    "tags": []
   },
   "outputs": [],
   "source": [
    "feature_extraction=TfidfVectorizer(min_df=1,stop_words='english',lowercase='True')\n",
    "x_train_features=feature_extraction.fit_transform(x_train)\n",
    "#dont fit x_test because we dont want to give our test data to model\n",
    "x_test_features=feature_extraction.transform(x_test)\n",
    "\n",
    "y_train=y_train.astype('int')\n",
    "y_test=y_test.astype('int')"
   ]
  },
  {
   "cell_type": "code",
   "execution_count": 14,
   "id": "57fda290",
   "metadata": {
    "_cell_guid": "04565fd0-fba0-49e2-a25e-4176ad7bd1a3",
    "_uuid": "c3c7a989-7157-4c0b-9955-c3b39961f9c1",
    "collapsed": false,
    "execution": {
     "iopub.execute_input": "2024-01-22T18:21:01.522994Z",
     "iopub.status.busy": "2024-01-22T18:21:01.522160Z",
     "iopub.status.idle": "2024-01-22T18:21:01.526575Z",
     "shell.execute_reply": "2024-01-22T18:21:01.527015Z",
     "shell.execute_reply.started": "2023-07-31T10:05:34.7745Z"
    },
    "jupyter": {
     "outputs_hidden": false
    },
    "papermill": {
     "duration": 0.044293,
     "end_time": "2024-01-22T18:21:01.527187",
     "exception": false,
     "start_time": "2024-01-22T18:21:01.482894",
     "status": "completed"
    },
    "tags": []
   },
   "outputs": [
    {
     "name": "stdout",
     "output_type": "stream",
     "text": [
      "  (0, 5413)\t0.6198254967574347\n",
      "  (0, 4456)\t0.4168658090846482\n",
      "  (0, 2224)\t0.413103377943378\n",
      "  (0, 3811)\t0.34780165336891333\n",
      "  (0, 2329)\t0.38783870336935383\n",
      "  (1, 4080)\t0.18880584110891163\n",
      "  (1, 3185)\t0.29694482957694585\n",
      "  (1, 3325)\t0.31610586766078863\n",
      "  (1, 2957)\t0.3398297002864083\n",
      "  (1, 2746)\t0.3398297002864083\n",
      "  (1, 918)\t0.22871581159877646\n",
      "  (1, 1839)\t0.2784903590561455\n",
      "  (1, 2758)\t0.3226407885943799\n",
      "  (1, 2956)\t0.33036995955537024\n",
      "  (1, 1991)\t0.33036995955537024\n",
      "  (1, 3046)\t0.2503712792613518\n",
      "  (1, 3811)\t0.17419952275504033\n",
      "  (2, 407)\t0.509272536051008\n",
      "  (2, 3156)\t0.4107239318312698\n",
      "  (2, 2404)\t0.45287711070606745\n",
      "  (2, 6601)\t0.6056811524587518\n",
      "  (3, 2870)\t0.5864269879324768\n",
      "  (3, 7414)\t0.8100020912469564\n",
      "  (4, 50)\t0.23633754072626942\n",
      "  (4, 5497)\t0.15743785051118356\n",
      "  :\t:\n",
      "  (4454, 4602)\t0.2669765732445391\n",
      "  (4454, 3142)\t0.32014451677763156\n",
      "  (4455, 2247)\t0.37052851863170466\n",
      "  (4455, 2469)\t0.35441545511837946\n",
      "  (4455, 5646)\t0.33545678464631296\n",
      "  (4455, 6810)\t0.29731757715898277\n",
      "  (4455, 6091)\t0.23103841516927642\n",
      "  (4455, 7113)\t0.30536590342067704\n",
      "  (4455, 3872)\t0.3108911491788658\n",
      "  (4455, 4715)\t0.30714144758811196\n",
      "  (4455, 6916)\t0.19636985317119715\n",
      "  (4455, 3922)\t0.31287563163368587\n",
      "  (4455, 4456)\t0.24920025316220423\n",
      "  (4456, 141)\t0.292943737785358\n",
      "  (4456, 647)\t0.30133182431707617\n",
      "  (4456, 6311)\t0.30133182431707617\n",
      "  (4456, 5569)\t0.4619395404299172\n",
      "  (4456, 6028)\t0.21034888000987115\n",
      "  (4456, 7154)\t0.24083218452280053\n",
      "  (4456, 7150)\t0.3677554681447669\n",
      "  (4456, 6249)\t0.17573831794959716\n",
      "  (4456, 6307)\t0.2752760476857975\n",
      "  (4456, 334)\t0.2220077711654938\n",
      "  (4456, 5778)\t0.16243064490100795\n",
      "  (4456, 2870)\t0.31523196273113385\n"
     ]
    }
   ],
   "source": [
    "print(x_train_features)"
   ]
  },
  {
   "cell_type": "code",
   "execution_count": 15,
   "id": "aad6a21a",
   "metadata": {
    "_cell_guid": "0c155a02-e134-4974-ba4f-de0a33c8608a",
    "_uuid": "3634a8e6-c1f5-4cc5-a3f2-15958e3aa65a",
    "collapsed": false,
    "execution": {
     "iopub.execute_input": "2024-01-22T18:21:01.599672Z",
     "iopub.status.busy": "2024-01-22T18:21:01.598936Z",
     "iopub.status.idle": "2024-01-22T18:21:01.602153Z",
     "shell.execute_reply": "2024-01-22T18:21:01.602668Z",
     "shell.execute_reply.started": "2023-07-31T10:05:34.784646Z"
    },
    "jupyter": {
     "outputs_hidden": false
    },
    "papermill": {
     "duration": 0.041173,
     "end_time": "2024-01-22T18:21:01.602836",
     "exception": false,
     "start_time": "2024-01-22T18:21:01.561663",
     "status": "completed"
    },
    "tags": []
   },
   "outputs": [],
   "source": [
    "model= LogisticRegression()"
   ]
  },
  {
   "cell_type": "code",
   "execution_count": 16,
   "id": "31e7680d",
   "metadata": {
    "_cell_guid": "4db87a3d-de1e-4bdd-b04c-c0b06b82a939",
    "_uuid": "85900113-8729-4e00-ae78-61ced0767275",
    "collapsed": false,
    "execution": {
     "iopub.execute_input": "2024-01-22T18:21:01.677874Z",
     "iopub.status.busy": "2024-01-22T18:21:01.677132Z",
     "iopub.status.idle": "2024-01-22T18:21:01.752175Z",
     "shell.execute_reply": "2024-01-22T18:21:01.752935Z",
     "shell.execute_reply.started": "2023-07-31T10:05:34.794017Z"
    },
    "jupyter": {
     "outputs_hidden": false
    },
    "papermill": {
     "duration": 0.116847,
     "end_time": "2024-01-22T18:21:01.753166",
     "exception": false,
     "start_time": "2024-01-22T18:21:01.636319",
     "status": "completed"
    },
    "tags": []
   },
   "outputs": [
    {
     "data": {
      "text/plain": [
       "LogisticRegression()"
      ]
     },
     "execution_count": 16,
     "metadata": {},
     "output_type": "execute_result"
    }
   ],
   "source": [
    "model.fit(x_train_features,y_train)"
   ]
  },
  {
   "cell_type": "markdown",
   "id": "8962d34b",
   "metadata": {
    "_cell_guid": "3ad6f389-633f-4ac4-a5c9-cc602358f7f3",
    "_uuid": "0f332ee5-7102-4673-acec-b98696e4bfa4",
    "papermill": {
     "duration": 0.035682,
     "end_time": "2024-01-22T18:21:01.824987",
     "exception": false,
     "start_time": "2024-01-22T18:21:01.789305",
     "status": "completed"
    },
    "tags": []
   },
   "source": [
    "**Predict on training data to confirm weather Overfitting occurs or not.**"
   ]
  },
  {
   "cell_type": "code",
   "execution_count": 17,
   "id": "7cc0c228",
   "metadata": {
    "_cell_guid": "e78bc944-cb84-4377-bb15-3a9e1aa9d486",
    "_uuid": "5b38b57e-798b-4952-8ea7-a7c9b93c10a1",
    "collapsed": false,
    "execution": {
     "iopub.execute_input": "2024-01-22T18:21:01.901643Z",
     "iopub.status.busy": "2024-01-22T18:21:01.900936Z",
     "iopub.status.idle": "2024-01-22T18:21:01.905873Z",
     "shell.execute_reply": "2024-01-22T18:21:01.906549Z",
     "shell.execute_reply.started": "2023-07-31T10:05:34.871365Z"
    },
    "jupyter": {
     "outputs_hidden": false
    },
    "papermill": {
     "duration": 0.046375,
     "end_time": "2024-01-22T18:21:01.906742",
     "exception": false,
     "start_time": "2024-01-22T18:21:01.860367",
     "status": "completed"
    },
    "tags": []
   },
   "outputs": [
    {
     "name": "stdout",
     "output_type": "stream",
     "text": [
      "Accuracy on training data:  0.9670181736594121\n"
     ]
    }
   ],
   "source": [
    "#prediction on training data\n",
    "\n",
    "prediction_on_training_data=model.predict(x_train_features)\n",
    "accuracy_on_training_data= accuracy_score(y_train,prediction_on_training_data)\n",
    "print('Accuracy on training data: ',accuracy_on_training_data)"
   ]
  },
  {
   "cell_type": "code",
   "execution_count": 18,
   "id": "aebe6d37",
   "metadata": {
    "_cell_guid": "892b3de3-3566-4459-8772-d4e7cc5e63f6",
    "_uuid": "71be51aa-d7d7-4044-94a8-eb4236124afa",
    "collapsed": false,
    "execution": {
     "iopub.execute_input": "2024-01-22T18:21:01.983535Z",
     "iopub.status.busy": "2024-01-22T18:21:01.982487Z",
     "iopub.status.idle": "2024-01-22T18:21:01.990889Z",
     "shell.execute_reply": "2024-01-22T18:21:01.991639Z",
     "shell.execute_reply.started": "2023-07-31T10:05:34.881378Z"
    },
    "jupyter": {
     "outputs_hidden": false
    },
    "papermill": {
     "duration": 0.049062,
     "end_time": "2024-01-22T18:21:01.991837",
     "exception": false,
     "start_time": "2024-01-22T18:21:01.942775",
     "status": "completed"
    },
    "tags": []
   },
   "outputs": [
    {
     "name": "stdout",
     "output_type": "stream",
     "text": [
      "Accuracy on test data:  0.9659192825112107\n"
     ]
    }
   ],
   "source": [
    "#prediction on test data\n",
    "\n",
    "prediction_on_test_data=model.predict(x_test_features)\n",
    "accuracy_on_test_data= accuracy_score(y_test,prediction_on_test_data)\n",
    "print('Accuracy on test data: ',accuracy_on_test_data)"
   ]
  },
  {
   "cell_type": "code",
   "execution_count": 19,
   "id": "b77ad7e5",
   "metadata": {
    "_cell_guid": "c857fe23-2121-42f0-8e15-1bb47ad2b173",
    "_uuid": "48dc8af6-225e-4e77-9d59-329378d490b3",
    "collapsed": false,
    "execution": {
     "iopub.execute_input": "2024-01-22T18:21:02.068012Z",
     "iopub.status.busy": "2024-01-22T18:21:02.067065Z",
     "iopub.status.idle": "2024-01-22T18:21:02.075874Z",
     "shell.execute_reply": "2024-01-22T18:21:02.075323Z",
     "shell.execute_reply.started": "2023-07-31T10:48:35.010812Z"
    },
    "jupyter": {
     "outputs_hidden": false
    },
    "papermill": {
     "duration": 0.047767,
     "end_time": "2024-01-22T18:21:02.076070",
     "exception": false,
     "start_time": "2024-01-22T18:21:02.028303",
     "status": "completed"
    },
    "tags": []
   },
   "outputs": [
    {
     "name": "stdout",
     "output_type": "stream",
     "text": [
      "[0]\n",
      "Spam mail\n"
     ]
    }
   ],
   "source": [
    "input_mail=[''' free fre'''] \n",
    "input_mail_features=feature_extraction.transform(input_mail)\n",
    "\n",
    "prediction_input=model.predict(input_mail_features)\n",
    "print(prediction_input)\n",
    "\n",
    "\n",
    "if prediction_input[0]==1:\n",
    "    print(\"Human mail\")\n",
    "else:\n",
    "    print(\"Spam mail\")"
   ]
  },
  {
   "cell_type": "code",
   "execution_count": 20,
   "id": "dcb9d099",
   "metadata": {
    "_cell_guid": "3e63fd90-080e-497c-9ffd-e78c0f126ed7",
    "_uuid": "9ae6bb78-8fd0-4375-a4dc-bbde04d93023",
    "collapsed": false,
    "execution": {
     "iopub.execute_input": "2024-01-22T18:21:02.153653Z",
     "iopub.status.busy": "2024-01-22T18:21:02.152896Z",
     "iopub.status.idle": "2024-01-22T18:21:04.781433Z",
     "shell.execute_reply": "2024-01-22T18:21:04.780890Z",
     "shell.execute_reply.started": "2023-07-31T10:05:34.906544Z"
    },
    "jupyter": {
     "outputs_hidden": false
    },
    "papermill": {
     "duration": 2.670558,
     "end_time": "2024-01-22T18:21:04.781594",
     "exception": false,
     "start_time": "2024-01-22T18:21:02.111036",
     "status": "completed"
    },
    "tags": []
   },
   "outputs": [
    {
     "name": "stdout",
     "output_type": "stream",
     "text": [
      "Model accuracy score with default hyperparameters: 0.9659\n"
     ]
    }
   ],
   "source": [
    "from sklearn.svm import SVC\n",
    "\n",
    "\n",
    "# import metrics to compute accuracy\n",
    "from sklearn.metrics import accuracy_score\n",
    "\n",
    "\n",
    "# instantiate classifier with default hyperparameters\n",
    "svc=SVC() \n",
    "\n",
    "\n",
    "# fit classifier to training set\n",
    "svc.fit(x_train_features,y_train)\n",
    "\n",
    "\n",
    "# make predictions on test set\n",
    "y_pred=svc.predict(x_train_features)\n",
    "\n",
    "\n",
    "# compute and print accuracy score\n",
    "print('Model accuracy score with default hyperparameters: {0:0.4f}'. format(accuracy_score(y_test, prediction_on_test_data)))"
   ]
  }
 ],
 "metadata": {
  "kaggle": {
   "accelerator": "none",
   "dataSources": [
    {
     "datasetId": 1930941,
     "sourceId": 7450421,
     "sourceType": "datasetVersion"
    }
   ],
   "dockerImageVersionId": 30170,
   "isGpuEnabled": false,
   "isInternetEnabled": false,
   "language": "python",
   "sourceType": "notebook"
  },
  "kernelspec": {
   "display_name": "Python 3",
   "language": "python",
   "name": "python3"
  },
  "language_info": {
   "codemirror_mode": {
    "name": "ipython",
    "version": 3
   },
   "file_extension": ".py",
   "mimetype": "text/x-python",
   "name": "python",
   "nbconvert_exporter": "python",
   "pygments_lexer": "ipython3",
   "version": "3.7.12"
  },
  "papermill": {
   "default_parameters": {},
   "duration": 17.00882,
   "end_time": "2024-01-22T18:21:05.528050",
   "environment_variables": {},
   "exception": null,
   "input_path": "__notebook__.ipynb",
   "output_path": "__notebook__.ipynb",
   "parameters": {},
   "start_time": "2024-01-22T18:20:48.519230",
   "version": "2.3.3"
  }
 },
 "nbformat": 4,
 "nbformat_minor": 5
}
